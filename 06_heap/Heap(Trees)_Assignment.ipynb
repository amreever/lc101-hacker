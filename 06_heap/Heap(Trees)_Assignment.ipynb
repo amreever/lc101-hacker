{
 "cells": [
  {
   "cell_type": "markdown",
   "metadata": {},
   "source": [
    "# Heaps (an introduction to Trees)"
   ]
  },
  {
   "cell_type": "markdown",
   "metadata": {},
   "source": [
    "## Trees\n",
    "\n",
    "Tree are the next step in our data structure exploration. Trees are formed by creating a decision point; when we transverse a tree we can decided to go left or right at each point in the tree. This is different from the Linked List version where we only have `next`.\n",
    "\n",
    "Trees are useful for storing data and accessing it quickly. We'll build a simple tree structure called a Heap (more on that later).\n",
    "\n",
    "Like the `ListItem` structure we played with before, we define a `class` which represents the points on a tree that hold data, a `value`, and references to left and right children."
   ]
  },
  {
   "cell_type": "code",
   "execution_count": 11,
   "metadata": {
    "collapsed": true
   },
   "outputs": [],
   "source": [
    "class TreeNode:\n",
    "    def __init__(self, value, left=None, right=None):\n",
    "        self.value = value\n",
    "        self.right = right\n",
    "        self.left = left\n",
    "        \n",
    "    def __repr__(self):\n",
    "        return ('<TreeNode value={} left={} right={}>'\n",
    "                .format(\n",
    "                    self.value,\n",
    "                    None if not self.left else hex(id(self.left)),\n",
    "                    None if not self.right else hex(id(self.right)),\n",
    "                ))"
   ]
  },
  {
   "cell_type": "markdown",
   "metadata": {},
   "source": [
    "This structure, or class, defines how a classification of things, we call `TreeNode` should behave. Here, we've only defined how to initialize the `TreeNode` in the method called `__init__` (pronounced dunder init) and written a method to nicely print the TreeNode. Each tree node should have a value, a left path, and a right path.\n",
    "\n",
    "Let build a simple tree:"
   ]
  },
  {
   "cell_type": "code",
   "execution_count": 12,
   "metadata": {
    "collapsed": true
   },
   "outputs": [],
   "source": [
    "root = TreeNode(10)\n",
    "root.right = TreeNode(24)"
   ]
  },
  {
   "cell_type": "code",
   "execution_count": 15,
   "metadata": {},
   "outputs": [
    {
     "data": {
      "text/plain": [
       "<TreeNode value=10 left=None right=0x37d898f9358>"
      ]
     },
     "execution_count": 15,
     "metadata": {},
     "output_type": "execute_result"
    }
   ],
   "source": [
    "root"
   ]
  },
  {
   "cell_type": "code",
   "execution_count": 16,
   "metadata": {},
   "outputs": [
    {
     "data": {
      "text/plain": [
       "<TreeNode value=24 left=None right=None>"
      ]
     },
     "execution_count": 16,
     "metadata": {},
     "output_type": "execute_result"
    }
   ],
   "source": [
    "root.right"
   ]
  },
  {
   "cell_type": "markdown",
   "metadata": {},
   "source": [
    "## Heaps\n",
    "\n",
    "A heap is a tree structure where we impose the condition that for any tree node, all discendents to the left have values less than the node's value and, similarly, all discendents to the right must have a value higher.\n",
    "\n",
    "__The assignment__ is to write an _insert_, _search_, and _delete_ function to make a heap work. I'll begin by writing the first half of the insert function and a function to flatten the heap to a list."
   ]
  },
  {
   "cell_type": "code",
   "execution_count": 18,
   "metadata": {
    "collapsed": true
   },
   "outputs": [],
   "source": [
    "def insert(heap_root, val):\n",
    "    \"\"\"Recursively insert val into the heap\"\"\"\n",
    "    if heap_root.value > val:\n",
    "        if heap_root.left is not None:\n",
    "            insert(heap_root.left, val)\n",
    "        else:\n",
    "            heap_root.left = TreeNode(val)"
   ]
  },
  {
   "cell_type": "code",
   "execution_count": 19,
   "metadata": {
    "collapsed": true
   },
   "outputs": [],
   "source": [
    "def to_list(heap_root):\n",
    "    \"\"\"Turn a heap into a flattened List\"\"\"\n",
    "    left = to_list(heap_root.left) if heap_root.left is not None else []\n",
    "    right = to_list(heap_root.right) if heap_root.right is not None else []\n",
    "    return left + [heap_root.value] + right"
   ]
  },
  {
   "cell_type": "code",
   "execution_count": 20,
   "metadata": {},
   "outputs": [
    {
     "data": {
      "text/plain": [
       "[10, 24]"
      ]
     },
     "execution_count": 20,
     "metadata": {},
     "output_type": "execute_result"
    }
   ],
   "source": [
    "to_list(root)"
   ]
  },
  {
   "cell_type": "code",
   "execution_count": null,
   "metadata": {
    "collapsed": true
   },
   "outputs": [],
   "source": []
  }
 ],
 "metadata": {
  "kernelspec": {
   "display_name": "Python 3",
   "language": "python",
   "name": "python3"
  },
  "language_info": {
   "codemirror_mode": {
    "name": "ipython",
    "version": 3
   },
   "file_extension": ".py",
   "mimetype": "text/x-python",
   "name": "python",
   "nbconvert_exporter": "python",
   "pygments_lexer": "ipython3",
   "version": "3.4.5"
  }
 },
 "nbformat": 4,
 "nbformat_minor": 2
}
