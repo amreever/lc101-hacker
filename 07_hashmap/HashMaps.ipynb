{
 "cells": [
  {
   "cell_type": "markdown",
   "metadata": {},
   "source": [
    "# Hash Maps (aka Dictionary)\n",
    "\n",
    "Hash maps are a data structure used to store data in an array like structure where each entry is specified by a key.\n",
    "\n",
    "Strings are usually used for keys but any python object which implements the `__hash__` method may be used. These include strings, integers, tuples. Dictionaries and lists do not implement hash so they can't be used.\n",
    "\n",
    "Immutable objects should not in principle be hashable since they can represent different things from moment to monent."
   ]
  },
  {
   "cell_type": "code",
   "execution_count": 5,
   "metadata": {
    "collapsed": true
   },
   "outputs": [],
   "source": [
    "some_str = 'Hello World'"
   ]
  },
  {
   "cell_type": "code",
   "execution_count": 9,
   "metadata": {},
   "outputs": [
    {
     "data": {
      "text/plain": [
       "1620200083040682574"
      ]
     },
     "execution_count": 9,
     "metadata": {},
     "output_type": "execute_result"
    }
   ],
   "source": [
    "hash(some_str)"
   ]
  },
  {
   "cell_type": "markdown",
   "metadata": {},
   "source": [
    "Hashes are stable even if we use a different part of memory!"
   ]
  },
  {
   "cell_type": "code",
   "execution_count": 10,
   "metadata": {},
   "outputs": [
    {
     "data": {
      "text/plain": [
       "False"
      ]
     },
     "execution_count": 10,
     "metadata": {},
     "output_type": "execute_result"
    }
   ],
   "source": [
    "other_str = 'Hello World'\n",
    "some_str is other_str"
   ]
  },
  {
   "cell_type": "code",
   "execution_count": 11,
   "metadata": {},
   "outputs": [
    {
     "data": {
      "text/plain": [
       "True"
      ]
     },
     "execution_count": 11,
     "metadata": {},
     "output_type": "execute_result"
    }
   ],
   "source": [
    "hash(other_str) == hash(some_str)"
   ]
  },
  {
   "cell_type": "markdown",
   "metadata": {},
   "source": [
    "__NOTE__: If two elements are equivalent, their hashes must be equal.\n",
    "\n",
    "__Logic Bonus__: Is the converse true as well?"
   ]
  },
  {
   "cell_type": "markdown",
   "metadata": {},
   "source": [
    "To use these hash numers to store data, we first create a list of empty values, or `None`s. We specify the size of the hash map store with `N`."
   ]
  },
  {
   "cell_type": "code",
   "execution_count": 12,
   "metadata": {
    "collapsed": true
   },
   "outputs": [],
   "source": [
    "N = 10"
   ]
  },
  {
   "cell_type": "code",
   "execution_count": 13,
   "metadata": {
    "collapsed": true
   },
   "outputs": [],
   "source": [
    "hm_store = [None] * N"
   ]
  },
  {
   "cell_type": "markdown",
   "metadata": {},
   "source": [
    "Then we insert the item in the list we take the hashed value and modulo it with the size of the list."
   ]
  },
  {
   "cell_type": "code",
   "execution_count": 14,
   "metadata": {
    "collapsed": true
   },
   "outputs": [],
   "source": [
    "key = 'Mike'\n",
    "value = 29"
   ]
  },
  {
   "cell_type": "code",
   "execution_count": 15,
   "metadata": {},
   "outputs": [
    {
     "data": {
      "text/plain": [
       "3"
      ]
     },
     "execution_count": 15,
     "metadata": {},
     "output_type": "execute_result"
    }
   ],
   "source": [
    "hash(key) % N"
   ]
  },
  {
   "cell_type": "code",
   "execution_count": 16,
   "metadata": {
    "collapsed": true
   },
   "outputs": [],
   "source": [
    "hm_store[hash(key) % N] = value"
   ]
  },
  {
   "cell_type": "markdown",
   "metadata": {},
   "source": [
    "To get the value out we do the same operation:"
   ]
  },
  {
   "cell_type": "code",
   "execution_count": 17,
   "metadata": {},
   "outputs": [
    {
     "data": {
      "text/plain": [
       "29"
      ]
     },
     "execution_count": 17,
     "metadata": {},
     "output_type": "execute_result"
    }
   ],
   "source": [
    "hm_store[hash(key) % N]"
   ]
  },
  {
   "cell_type": "markdown",
   "metadata": {},
   "source": [
    "## Caution: Collisions!"
   ]
  },
  {
   "cell_type": "code",
   "execution_count": 41,
   "metadata": {},
   "outputs": [
    {
     "data": {
      "text/plain": [
       "3"
      ]
     },
     "execution_count": 41,
     "metadata": {},
     "output_type": "execute_result"
    }
   ],
   "source": [
    "hash('Zip') % 10"
   ]
  },
  {
   "cell_type": "markdown",
   "metadata": {},
   "source": [
    "If we try to use the key 'Abby' we'll overwrite the entry for \"Mike\"! We should set up a system to prevent this.\n",
    "\n",
    "One method would be to use a linked list at each hash location, store the key and the value with each entry and find the one that we want."
   ]
  },
  {
   "cell_type": "code",
   "execution_count": 36,
   "metadata": {
    "collapsed": true
   },
   "outputs": [],
   "source": [
    "class HashListItem:\n",
    "    def __init__(self, key, value, next_=None):\n",
    "        self.key = key\n",
    "        self.value = value\n",
    "        self.next = next_"
   ]
  },
  {
   "cell_type": "markdown",
   "metadata": {},
   "source": [
    "Insert Mike's value again:"
   ]
  },
  {
   "cell_type": "code",
   "execution_count": 42,
   "metadata": {
    "collapsed": true
   },
   "outputs": [],
   "source": [
    "hm_store[hash(key) % N] = HashListItem(key, value)"
   ]
  },
  {
   "cell_type": "markdown",
   "metadata": {},
   "source": [
    "Insert the value for the key \"Abby\":"
   ]
  },
  {
   "cell_type": "code",
   "execution_count": 43,
   "metadata": {},
   "outputs": [],
   "source": [
    "hm_store[hash(\"Zip\") % N].next = HashListItem(\"Zip\", 24)"
   ]
  },
  {
   "cell_type": "markdown",
   "metadata": {},
   "source": [
    "The method of using a linked list increases the average look up time for the hash map which could be as bad as a linked list of there are too many collisions.\n",
    "\n",
    "There are many different methods for resolving collisions. The linked list option is known as _Seperate Chaining_. Another class of methods is called _Open Addressing_."
   ]
  },
  {
   "cell_type": "code",
   "execution_count": 48,
   "metadata": {},
   "outputs": [
    {
     "data": {
      "text/plain": [
       "'Zip'"
      ]
     },
     "execution_count": 48,
     "metadata": {},
     "output_type": "execute_result"
    }
   ],
   "source": [
    "hm_store[3].next.key"
   ]
  },
  {
   "cell_type": "markdown",
   "metadata": {},
   "source": [
    "## Assignment\n",
    "\n",
    "The assignment is to create a class, called a HashMap, which supports the same methods as a `dict`. That is you need to be able to insert key, value pairs, remove them, check if a key exists, and list all the pairs inserted so far.\n",
    "\n",
    "`dict` is a very clever implementation of a hash map (or hash table), it will resize when too many collisions occure and will do so very fast. You do not need to make your HashMap resize. "
   ]
  },
  {
   "cell_type": "code",
   "execution_count": 50,
   "metadata": {
    "collapsed": true
   },
   "outputs": [],
   "source": [
    "class HashMapItem:\n",
    "    def __init__(self, key, value, next_=None):\n",
    "        self.key = key\n",
    "        self.value = value\n",
    "        self.next = next_\n",
    "\n",
    "class MyHashMap:\n",
    "    def __init__(self, size):\n",
    "        self._table = [None] * size\n",
    "        self._size = size\n",
    "    \n",
    "    def insert(self, key, value):\n",
    "        h = hash(key) % self._size\n",
    "        if self._table[h] is None:\n",
    "            self._table[h] = HashMapItem(key, value)\n",
    "        else:\n",
    "            # Insert in linked list\n",
    "    \n",
    "    def get(self, key):\n",
    "        h = hash(key) % self._size\n",
    "        if self._table[h] is None:\n",
    "            return None\n",
    "        else:\n",
    "            cur = self._table[h]\n",
    "            while cur:\n",
    "                if cur.key == key:\n",
    "                    return cur.value\n",
    "                cur = cur.next\n",
    "        return None\n",
    "    "
   ]
  },
  {
   "cell_type": "code",
   "execution_count": null,
   "metadata": {
    "collapsed": true
   },
   "outputs": [],
   "source": []
  }
 ],
 "metadata": {
  "kernelspec": {
   "display_name": "Python 3",
   "language": "python",
   "name": "python3"
  },
  "language_info": {
   "codemirror_mode": {
    "name": "ipython",
    "version": 3
   },
   "file_extension": ".py",
   "mimetype": "text/x-python",
   "name": "python",
   "nbconvert_exporter": "python",
   "pygments_lexer": "ipython3",
   "version": "3.4.5"
  }
 },
 "nbformat": 4,
 "nbformat_minor": 2
}
