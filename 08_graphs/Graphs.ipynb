{
 "cells": [
  {
   "cell_type": "markdown",
   "metadata": {},
   "source": [
    "# Graphs and Graph Transversal\n",
    "\n",
    "A graph is a collection of nodes and edges.\n",
    "Each node is possibly connected to other nodes via edges."
   ]
  },
  {
   "cell_type": "code",
   "execution_count": 9,
   "metadata": {
    "collapsed": true
   },
   "outputs": [],
   "source": [
    "import graphviz\n",
    "import random"
   ]
  },
  {
   "cell_type": "code",
   "execution_count": 12,
   "metadata": {
    "collapsed": true
   },
   "outputs": [],
   "source": [
    "def random_graph(n_nodes=10, n_connections=20):\n",
    "    dot = graphviz.Graph()\n",
    "    node_ids = list(range(n_nodes))\n",
    "    for node_id in node_ids:\n",
    "        dot.node(str(node_id), str(node_id))\n",
    "    \n",
    "    for i in range(n_connections):\n",
    "        start = random.randint(0, n_nodes)\n",
    "        end = random.randint(0, n_nodes)\n",
    "        if start != end:\n",
    "            dot.edge(str(start), str(end))\n",
    "    \n",
    "    return dot"
   ]
  },
  {
   "cell_type": "code",
   "execution_count": 16,
   "metadata": {},
   "outputs": [],
   "source": [
    "g = random_graph(10)"
   ]
  },
  {
   "cell_type": "code",
   "execution_count": 18,
   "metadata": {},
   "outputs": [
    {
     "name": "stdout",
     "output_type": "stream",
     "text": [
      "graph {\n",
      "\t0 [label=0]\n",
      "\t1 [label=1]\n",
      "\t2 [label=2]\n",
      "\t3 [label=3]\n",
      "\t4 [label=4]\n",
      "\t5 [label=5]\n",
      "\t6 [label=6]\n",
      "\t7 [label=7]\n",
      "\t8 [label=8]\n",
      "\t9 [label=9]\n",
      "\t5 -- 2\n",
      "\t6 -- 1\n",
      "\t1 -- 0\n",
      "\t9 -- 8\n",
      "\t6 -- 10\n",
      "\t10 -- 7\n",
      "\t2 -- 1\n",
      "\t8 -- 7\n",
      "\t7 -- 4\n",
      "\t6 -- 1\n",
      "\t8 -- 7\n",
      "\t1 -- 4\n",
      "\t9 -- 1\n",
      "\t10 -- 0\n",
      "\t5 -- 1\n",
      "\t3 -- 10\n",
      "\t1 -- 7\n",
      "}\n"
     ]
    }
   ],
   "source": [
    "print(g.source)"
   ]
  },
  {
   "cell_type": "code",
   "execution_count": null,
   "metadata": {
    "collapsed": true
   },
   "outputs": [],
   "source": []
  }
 ],
 "metadata": {
  "kernelspec": {
   "display_name": "Python 3",
   "language": "python",
   "name": "python3"
  },
  "language_info": {
   "codemirror_mode": {
    "name": "ipython",
    "version": 3
   },
   "file_extension": ".py",
   "mimetype": "text/x-python",
   "name": "python",
   "nbconvert_exporter": "python",
   "pygments_lexer": "ipython3",
   "version": "3.4.5"
  }
 },
 "nbformat": 4,
 "nbformat_minor": 2
}
